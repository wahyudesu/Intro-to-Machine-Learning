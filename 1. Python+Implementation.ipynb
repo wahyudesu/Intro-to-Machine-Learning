{
  "nbformat": 4,
  "nbformat_minor": 0,
  "metadata": {
    "colab": {
      "name": "01 - Python Intro",
      "provenance": [],
      "collapsed_sections": []
    },
    "kernelspec": {
      "name": "python3",
      "display_name": "Python 3"
    },
    "language_info": {
      "name": "python"
    }
  },
  "cells": [
    {
      "cell_type": "markdown",
      "metadata": {
        "id": "4soZ0-j6Zb_D"
      },
      "source": [
        "**INTRO TO PYTHON**"
      ]
    },
    {
      "cell_type": "markdown",
      "metadata": {
        "id": "VvT-HQCfZocc"
      },
      "source": [
        "***Quick things about case and camelcase:***"
      ]
    },
    {
      "cell_type": "code",
      "metadata": {
        "colab": {
          "base_uri": "https://localhost:8080/"
        },
        "id": "R85wBG8VZGBt",
        "outputId": "fe77fe46-0b23-423f-9c62-549a2fa1ec27"
      },
      "source": [
        "take = 1\n",
        "Take = 2\n",
        "print(take, Take)"
      ],
      "execution_count": null,
      "outputs": [
        {
          "output_type": "stream",
          "name": "stdout",
          "text": [
            "1 2\n"
          ]
        }
      ]
    },
    {
      "cell_type": "code",
      "metadata": {
        "id": "Sj9ep0ivZW1E",
        "colab": {
          "base_uri": "https://localhost:8080/"
        },
        "outputId": "06430715-75e8-46c9-fc0e-e28e6084d927"
      },
      "source": [
        "answerProblem = input(\"text: \")\n"
      ],
      "execution_count": null,
      "outputs": [
        {
          "name": "stdout",
          "output_type": "stream",
          "text": [
            "text: test\n"
          ]
        }
      ]
    },
    {
      "cell_type": "markdown",
      "metadata": {
        "id": "GjSZZNGFZxHc"
      },
      "source": [
        "***Variables and Data Types:***"
      ]
    },
    {
      "cell_type": "code",
      "metadata": {
        "id": "xTMeZtjQZ2JT"
      },
      "source": [
        "boolean1 = True\n",
        "boolean2 = False\n",
        "float1 = 1.0\n",
        "int1 = 1\n",
        "string1 = 'hello people of the internet'\n",
        "string2 = \"False\""
      ],
      "execution_count": null,
      "outputs": []
    },
    {
      "cell_type": "code",
      "metadata": {
        "colab": {
          "base_uri": "https://localhost:8080/"
        },
        "id": "pxQrTLHfaNEE",
        "outputId": "1952fa3f-b8ae-4774-dba6-35bdfb67f0c0"
      },
      "source": [
        "float_int = int(float1)\n",
        "bool1_str = str(boolean1)\n",
        "str2_bool = bool(string2)\n",
        "int_float = float(int1)\n",
        "\n",
        "print(type(bool1_str))\n",
        "print(bool1_str)"
      ],
      "execution_count": null,
      "outputs": [
        {
          "output_type": "stream",
          "name": "stdout",
          "text": [
            "<class 'str'>\n",
            "True\n"
          ]
        }
      ]
    },
    {
      "cell_type": "code",
      "metadata": {
        "colab": {
          "base_uri": "https://localhost:8080/"
        },
        "id": "bmc9NsqSayJP",
        "outputId": "014cd64a-0d25-4fd5-d523-259b52734396"
      },
      "source": [
        "answer = input(\"What is 2+2?\")\n",
        "type(answer)"
      ],
      "execution_count": null,
      "outputs": [
        {
          "name": "stdout",
          "output_type": "stream",
          "text": [
            "What is 2+2?4\n"
          ]
        },
        {
          "output_type": "execute_result",
          "data": {
            "text/plain": [
              "str"
            ]
          },
          "metadata": {},
          "execution_count": 4
        }
      ]
    },
    {
      "cell_type": "code",
      "metadata": {
        "colab": {
          "base_uri": "https://localhost:8080/",
          "height": 181
        },
        "id": "-mRoEf_7a6k5",
        "outputId": "a436116e-7996-4246-d576-7ab15b4d4ac5"
      },
      "source": [
        "ans_squared = answer**2\n",
        "print(ans_squared)"
      ],
      "execution_count": null,
      "outputs": [
        {
          "output_type": "error",
          "ename": "TypeError",
          "evalue": "ignored",
          "traceback": [
            "\u001b[0;31m---------------------------------------------------------------------------\u001b[0m",
            "\u001b[0;31mTypeError\u001b[0m                                 Traceback (most recent call last)",
            "\u001b[0;32m<ipython-input-9-eeb1db9a3b6d>\u001b[0m in \u001b[0;36m<module>\u001b[0;34m()\u001b[0m\n\u001b[0;32m----> 1\u001b[0;31m \u001b[0mans_squared\u001b[0m \u001b[0;34m=\u001b[0m \u001b[0manswer\u001b[0m\u001b[0;34m**\u001b[0m\u001b[0;36m2\u001b[0m\u001b[0;34m\u001b[0m\u001b[0;34m\u001b[0m\u001b[0m\n\u001b[0m\u001b[1;32m      2\u001b[0m \u001b[0mprint\u001b[0m\u001b[0;34m(\u001b[0m\u001b[0mans_squared\u001b[0m\u001b[0;34m)\u001b[0m\u001b[0;34m\u001b[0m\u001b[0;34m\u001b[0m\u001b[0m\n",
            "\u001b[0;31mTypeError\u001b[0m: unsupported operand type(s) for ** or pow(): 'str' and 'int'"
          ]
        }
      ]
    },
    {
      "cell_type": "code",
      "metadata": {
        "colab": {
          "base_uri": "https://localhost:8080/"
        },
        "id": "xXrXyAvmbFfa",
        "outputId": "6e769f0d-fa69-41fe-b018-b00daaeee117"
      },
      "source": [
        "ans_squared = int(answer)**2\n",
        "print(ans_squared)"
      ],
      "execution_count": null,
      "outputs": [
        {
          "output_type": "stream",
          "name": "stdout",
          "text": [
            "16\n"
          ]
        }
      ]
    },
    {
      "cell_type": "code",
      "metadata": {
        "colab": {
          "base_uri": "https://localhost:8080/"
        },
        "id": "cIKT59xjzvKZ",
        "outputId": "5e1ce0fd-8f8c-43ef-ac83-55e8009ee885"
      },
      "source": [
        "range(4)"
      ],
      "execution_count": null,
      "outputs": [
        {
          "output_type": "execute_result",
          "data": {
            "text/plain": [
              "range(0, 4)"
            ]
          },
          "metadata": {},
          "execution_count": 6
        }
      ]
    },
    {
      "cell_type": "markdown",
      "metadata": {
        "id": "7Boy9wAIbohT"
      },
      "source": [
        "***Loops and Conditionals:***"
      ]
    },
    {
      "cell_type": "code",
      "metadata": {
        "colab": {
          "base_uri": "https://localhost:8080/"
        },
        "id": "7Gr6epYxbuIp",
        "outputId": "dacdee9e-040f-4a71-f14a-aea809b0df16"
      },
      "source": [
        "x=0\n",
        "while x < 10:   #condition\n",
        "  print(x)      #action\n",
        "  x += 1        #adds 1 every time you run through the loop - (update condition)"
      ],
      "execution_count": null,
      "outputs": [
        {
          "output_type": "stream",
          "name": "stdout",
          "text": [
            "0\n",
            "1\n",
            "2\n",
            "3\n",
            "4\n",
            "5\n",
            "6\n",
            "7\n",
            "8\n",
            "9\n"
          ]
        }
      ]
    },
    {
      "cell_type": "code",
      "metadata": {
        "id": "fepjCSpmcXEo",
        "colab": {
          "base_uri": "https://localhost:8080/"
        },
        "outputId": "438decb0-e161-4bb6-9f67-83ff322d94f5"
      },
      "source": [
        "for x in range (1,10):\n",
        "  print(x)"
      ],
      "execution_count": null,
      "outputs": [
        {
          "output_type": "stream",
          "name": "stdout",
          "text": [
            "1\n",
            "2\n",
            "3\n",
            "4\n",
            "5\n",
            "6\n",
            "7\n",
            "8\n",
            "9\n"
          ]
        }
      ]
    },
    {
      "cell_type": "code",
      "metadata": {
        "colab": {
          "base_uri": "https://localhost:8080/"
        },
        "id": "N0vlpf96fBWg",
        "outputId": "c33a4811-0e71-4ae5-992d-8c3bd9bf2820"
      },
      "source": [
        "x = 'mathematics'\n",
        "for y in x:\n",
        "  print(y)"
      ],
      "execution_count": null,
      "outputs": [
        {
          "output_type": "stream",
          "name": "stdout",
          "text": [
            "m\n",
            "a\n",
            "t\n",
            "h\n",
            "e\n",
            "m\n",
            "a\n",
            "t\n",
            "i\n",
            "c\n",
            "s\n"
          ]
        }
      ]
    },
    {
      "cell_type": "code",
      "metadata": {
        "colab": {
          "base_uri": "https://localhost:8080/"
        },
        "id": "hG10OhI3ejzd",
        "outputId": "b7aa9bd4-1495-47ea-a28b-f81df3a9142f"
      },
      "source": [
        "answer = 4\n",
        "if answer == 3:    # '==' returns a boolean value\n",
        "  print('wow you are really good at math!')\n",
        "else:\n",
        "  print('get better at math please')"
      ],
      "execution_count": null,
      "outputs": [
        {
          "output_type": "stream",
          "name": "stdout",
          "text": [
            "get better at math please\n"
          ]
        }
      ]
    },
    {
      "cell_type": "markdown",
      "metadata": {
        "id": "AypzKLF7fXZ0"
      },
      "source": [
        "***Lists - Basics and Accession***"
      ]
    },
    {
      "cell_type": "code",
      "metadata": {
        "colab": {
          "base_uri": "https://localhost:8080/"
        },
        "id": "bwnJNkKdfdmC",
        "outputId": "cb14b75e-fe13-4ce0-c35e-1bf6d810f291"
      },
      "source": [
        "tuple1 = (0,1.5)\n",
        "list1 = ['a','b','c','d','e','f','g','h','i','j']\n",
        "\n",
        "\n",
        "print(list1[0])\n",
        "print(list1[1])"
      ],
      "execution_count": null,
      "outputs": [
        {
          "output_type": "stream",
          "name": "stdout",
          "text": [
            "a\n",
            "b\n"
          ]
        }
      ]
    },
    {
      "cell_type": "code",
      "metadata": {
        "colab": {
          "base_uri": "https://localhost:8080/"
        },
        "id": "RE3ahanHgNHr",
        "outputId": "a3cdc44f-74f8-44de-8338-f76b0ffe453d"
      },
      "source": [
        "list1[2:5]"
      ],
      "execution_count": null,
      "outputs": [
        {
          "output_type": "execute_result",
          "data": {
            "text/plain": [
              "['c', 'd', 'e']"
            ]
          },
          "metadata": {},
          "execution_count": 22
        }
      ]
    },
    {
      "cell_type": "code",
      "metadata": {
        "colab": {
          "base_uri": "https://localhost:8080/"
        },
        "id": "KudFlxp6gSZI",
        "outputId": "742fe66c-2330-42b6-baf2-26b19570c73b"
      },
      "source": [
        "list1[:]"
      ],
      "execution_count": null,
      "outputs": [
        {
          "output_type": "execute_result",
          "data": {
            "text/plain": [
              "['a', 'b', 'c', 'd', 'e', 'f', 'g', 'h', 'i', 'j']"
            ]
          },
          "metadata": {},
          "execution_count": 23
        }
      ]
    },
    {
      "cell_type": "code",
      "metadata": {
        "colab": {
          "base_uri": "https://localhost:8080/"
        },
        "id": "UP_hkLhogWcx",
        "outputId": "dbfd9660-19af-4576-fedb-4b2eff5ecc6f"
      },
      "source": [
        "list1[4:]"
      ],
      "execution_count": null,
      "outputs": [
        {
          "output_type": "execute_result",
          "data": {
            "text/plain": [
              "['e', 'f', 'g', 'h', 'i', 'j']"
            ]
          },
          "metadata": {},
          "execution_count": 24
        }
      ]
    },
    {
      "cell_type": "code",
      "metadata": {
        "colab": {
          "base_uri": "https://localhost:8080/"
        },
        "id": "xAyTthBQgYwT",
        "outputId": "ff48f71a-46ea-4afb-abe6-e7ea1eed27f5"
      },
      "source": [
        "list1[:3]"
      ],
      "execution_count": null,
      "outputs": [
        {
          "output_type": "execute_result",
          "data": {
            "text/plain": [
              "['a', 'b', 'c']"
            ]
          },
          "metadata": {},
          "execution_count": 25
        }
      ]
    },
    {
      "cell_type": "code",
      "metadata": {
        "colab": {
          "base_uri": "https://localhost:8080/"
        },
        "id": "GDOY-v7bgnSV",
        "outputId": "3055d99b-715d-4577-f1a9-d0434de8896b"
      },
      "source": [
        "list1.append(1)\n",
        "list1"
      ],
      "execution_count": null,
      "outputs": [
        {
          "output_type": "execute_result",
          "data": {
            "text/plain": [
              "['a', 'b', 'c', 'd', 'e', 'f', 'g', 'h', 'i', 'j', 1]"
            ]
          },
          "metadata": {},
          "execution_count": 31
        }
      ]
    },
    {
      "cell_type": "code",
      "metadata": {
        "colab": {
          "base_uri": "https://localhost:8080/"
        },
        "id": "6XY-AV6pgrht",
        "outputId": "a5a2efe5-a5ee-4476-d187-4eb90546a563"
      },
      "source": [
        "list1.count(1)"
      ],
      "execution_count": null,
      "outputs": [
        {
          "output_type": "execute_result",
          "data": {
            "text/plain": [
              "1"
            ]
          },
          "metadata": {},
          "execution_count": 28
        }
      ]
    },
    {
      "cell_type": "code",
      "metadata": {
        "colab": {
          "base_uri": "https://localhost:8080/"
        },
        "id": "2jigLV3Zgxdx",
        "outputId": "969bda4f-1d17-4caa-c6f4-6198c2215d53"
      },
      "source": [
        "list1.remove(1)\n",
        "list1"
      ],
      "execution_count": null,
      "outputs": [
        {
          "output_type": "execute_result",
          "data": {
            "text/plain": [
              "['a', 'b', 'c', 'd', 'e', 'f', 'g', 'h', 'i', 'j']"
            ]
          },
          "metadata": {},
          "execution_count": 32
        }
      ]
    },
    {
      "cell_type": "code",
      "metadata": {
        "colab": {
          "base_uri": "https://localhost:8080/"
        },
        "id": "D07A-5Ttg3x7",
        "outputId": "23e2ce1a-7c62-4b19-cf71-d0f9bd603720"
      },
      "source": [
        "list1.pop(1)\n",
        "list1"
      ],
      "execution_count": null,
      "outputs": [
        {
          "output_type": "execute_result",
          "data": {
            "text/plain": [
              "['a', 'c', 'd', 'e', 'f', 'g', 'h', 'i', 'j']"
            ]
          },
          "metadata": {},
          "execution_count": 33
        }
      ]
    },
    {
      "cell_type": "markdown",
      "metadata": {
        "id": "PMUQ6dEGhifv"
      },
      "source": [
        "***List Comprehension***"
      ]
    },
    {
      "cell_type": "code",
      "metadata": {
        "id": "8lWqI96jh8n1",
        "colab": {
          "base_uri": "https://localhost:8080/"
        },
        "outputId": "56267f60-7cf3-47dd-95b0-0e4501cbcaec"
      },
      "source": [
        "list_comp = [x for x in range (1,10)]\n",
        "list_comp"
      ],
      "execution_count": null,
      "outputs": [
        {
          "output_type": "execute_result",
          "data": {
            "text/plain": [
              "[1, 2, 3, 4, 5, 6, 7, 8, 9]"
            ]
          },
          "metadata": {},
          "execution_count": 2
        }
      ]
    },
    {
      "cell_type": "code",
      "metadata": {
        "colab": {
          "base_uri": "https://localhost:8080/"
        },
        "id": "yS562omkEZoM",
        "outputId": "17718057-5ef7-4039-e55d-f79e8e4f75c7"
      },
      "source": [
        "evens = [x for x in range (1,10) if x%2==0]\n",
        "evens"
      ],
      "execution_count": null,
      "outputs": [
        {
          "output_type": "execute_result",
          "data": {
            "text/plain": [
              "[2, 4, 6, 8]"
            ]
          },
          "metadata": {},
          "execution_count": 3
        }
      ]
    },
    {
      "cell_type": "code",
      "metadata": {
        "colab": {
          "base_uri": "https://localhost:8080/"
        },
        "id": "A3YWYoAIEwUF",
        "outputId": "8f41d16a-574f-4e81-9ded-2f0491ce008f"
      },
      "source": [
        "even_or_odd= [\"Even\" if i%2==0 else \"Odd\" for i in range(10)]\n",
        "even_or_odd"
      ],
      "execution_count": null,
      "outputs": [
        {
          "output_type": "execute_result",
          "data": {
            "text/plain": [
              "['Even', 'Odd', 'Even', 'Odd', 'Even', 'Odd', 'Even', 'Odd', 'Even', 'Odd']"
            ]
          },
          "metadata": {},
          "execution_count": 4
        }
      ]
    },
    {
      "cell_type": "markdown",
      "metadata": {
        "id": "LY0ZDkIsE-aF"
      },
      "source": [
        "***Functions and Lambda***"
      ]
    },
    {
      "cell_type": "code",
      "metadata": {
        "colab": {
          "base_uri": "https://localhost:8080/"
        },
        "id": "R6fcLlG8FE4j",
        "outputId": "97548126-3bf6-4dfd-b696-69748905f605"
      },
      "source": [
        "def func1():\n",
        "  print(\"Hello world.\")\n",
        "\n",
        "func1()"
      ],
      "execution_count": null,
      "outputs": [
        {
          "output_type": "stream",
          "name": "stdout",
          "text": [
            "Hello world.\n"
          ]
        }
      ]
    },
    {
      "cell_type": "code",
      "metadata": {
        "colab": {
          "base_uri": "https://localhost:8080/"
        },
        "id": "p7lkIWfSFNdw",
        "outputId": "e92d0d0a-b575-4339-c3fe-f5b8fe6317be"
      },
      "source": [
        "def func2():\n",
        "  x=3**2 + 24 + 36\n",
        "  return x\n",
        "var = func2()\n",
        "var"
      ],
      "execution_count": null,
      "outputs": [
        {
          "output_type": "execute_result",
          "data": {
            "text/plain": [
              "69"
            ]
          },
          "metadata": {},
          "execution_count": 8
        }
      ]
    },
    {
      "cell_type": "code",
      "metadata": {
        "colab": {
          "base_uri": "https://localhost:8080/"
        },
        "id": "DEZdgvznFdAo",
        "outputId": "1cb958ee-9a7d-4111-eb17-8403c0b6ef9f"
      },
      "source": [
        "def func3(a):\n",
        "  return a**2+19+69\n",
        "\n",
        "func3(12)"
      ],
      "execution_count": null,
      "outputs": [
        {
          "output_type": "execute_result",
          "data": {
            "text/plain": [
              "232"
            ]
          },
          "metadata": {},
          "execution_count": 13
        }
      ]
    },
    {
      "cell_type": "code",
      "metadata": {
        "colab": {
          "base_uri": "https://localhost:8080/"
        },
        "id": "ydoSEikyFsck",
        "outputId": "fda51f40-dbb7-425c-e00c-439c7bcc6796"
      },
      "source": [
        "lambda_func= lambda x: x+190\n",
        "lambda_func(10)"
      ],
      "execution_count": null,
      "outputs": [
        {
          "output_type": "execute_result",
          "data": {
            "text/plain": [
              "200"
            ]
          },
          "metadata": {},
          "execution_count": 17
        }
      ]
    }
  ]
}